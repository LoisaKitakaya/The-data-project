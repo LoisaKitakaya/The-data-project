{
 "cells": [
  {
   "cell_type": "markdown",
   "metadata": {},
   "source": [
    "# League of legends crawler"
   ]
  },
  {
   "cell_type": "markdown",
   "metadata": {},
   "source": [
    "#### primary site for this project: [https://tracker.gg/lol](https://tracker.gg/lol)"
   ]
  },
  {
   "cell_type": "markdown",
   "metadata": {},
   "source": [
    "This crawler is built using [selenium](https://www.selenium.dev/documentation/) using the firefox webdriver"
   ]
  },
  {
   "cell_type": "code",
   "execution_count": 1,
   "metadata": {},
   "outputs": [],
   "source": [
    "from selenium import webdriver\n",
    "from selenium.webdriver.firefox.service import Service as FirefoxService\n",
    "from webdriver_manager.firefox import GeckoDriverManager\n",
    "from selenium.webdriver.common.by import By"
   ]
  },
  {
   "cell_type": "code",
   "execution_count": 2,
   "metadata": {},
   "outputs": [
    {
     "name": "stderr",
     "output_type": "stream",
     "text": [
      "[WDM] - Downloading: 19.0kB [00:00, 8.07MB/s]                   \n",
      "[WDM] - Downloading: 100%|██████████| 2.85M/2.85M [00:18<00:00, 160kB/s] \n"
     ]
    }
   ],
   "source": [
    "driver = webdriver.Firefox(service=FirefoxService(GeckoDriverManager().install()))\n",
    "\n",
    "driver.get(\"https://tracker.gg/lol/leaderboards/stats/all/LeaguePoints?region=NA&queueType=RANKED_SOLO_5x5\")\n",
    "\n",
    "driver.implicitly_wait(3)"
   ]
  },
  {
   "cell_type": "markdown",
   "metadata": {},
   "source": [
    "### North America Leaderboard"
   ]
  },
  {
   "cell_type": "code",
   "execution_count": 3,
   "metadata": {},
   "outputs": [],
   "source": [
    "na_leaderboard = driver.find_elements(By.TAG_NAME, 'tr')"
   ]
  },
  {
   "cell_type": "code",
   "execution_count": 4,
   "metadata": {},
   "outputs": [],
   "source": [
    "# python lists to store data\n",
    "\n",
    "overall_position = []\n",
    "player_name = []\n",
    "rank = []\n",
    "league_points = []\n",
    "win_rate = []\n",
    "matches_played = []"
   ]
  },
  {
   "cell_type": "code",
   "execution_count": 5,
   "metadata": {},
   "outputs": [
    {
     "name": "stdout",
     "output_type": "stream",
     "text": [
      "['1', '2', '3', '4', '6', '7', '8', '9', '12', '16', '17', '18', '18', '20', '21', '22', '24', '25', '28', '32', '36', '39', '40', '44', '45', '47', '47', '49', '50', '52', '52', '54', '55', '56', '57', '58', '59', '60', '61', '62', '63', '64', '66', '67', '68', '70', '72', '72', '76', '77', '81', '82', '84', '85', '86', '87', '87', '89', '92', '94', '95', '95', '98', '99', '100']\n",
      "['PwVxHc9999na', 'Wakanda', 'c2', 'MU', 'Twitchtv', 'thepob', 'winnie', 'Topo', 'WxMjm978244659', 'ctrIc', 'dogkachu', '100Sword', 'niinim', 'Srtty', 'duoking1', 'Samikin', '100Tenacity', 'knownwin', 'lolDaddyVladdy', 'wechat', 'Sarcasm', 'TTVKoKooPuffs', 'Iinks', 'Prestige', 'pizzaman007', '10iQPLAYER', 'Trixter2', 'TLHonda', 'N', 'lqs1', 'Bazz', 'Daption2', 'ScrubNoob', 'TEAMOKARLA', 'adchunter', '1nori', 'TempestLoveYuely', 'TLHonda', 'OneDan', 'Biofrost', 'TTVPocket', 'goo1500', 'LFT', 'FLYYuuji', 'jojoooooooooooo', 'VULCAN10', 'IlllIIIlllIIIll', 'TheTank', 'CLG', 'Competition9', 'Busio3', 'TSMChime', 'SnowyStepz', 'AnNuol', 'Bei', 'ZativertVi', 'DrPebba', 'featherof', 'big', 'Livatious', 'Last', 'Revenge', 'TLHondaBwipo', 'EU', 'blondedahyun']\n",
      "['Challenger', 'f0rever', 'meteos', 'APA', 'Cupic', 'Challenger', 'poohbear', 'Challenger', 'Challenger', 'Challenger', 'Challenger', 'Challenger', 'Challenger', 'Challenger', 'Challenger', 'Challenger', 'Challenger', 'trader', 'Challenger', 'Hc9999na', 'Orgasm', 'Challenger', 'Challenger', 'Bot', 'Challenger', 'Challenger', 'Challenger', 'CoreJJ', 'L', 'Challenger', 'B', 'Challenger', 'Challenger', 'Challenger', 'Challenger', 'Challenger', 'Challenger', 'Santorin', 'Challenger', 'Challenger', 'Rhino', 'Challenger', 'dtro18', 'Challenger', 'Challenger', 'Challenger', 'Challenger', 'Man', 'poome', 'Challenger', 'Challenger', 'Challenger', 'Challenger', 'Challenger', 'Challenger', 'Challenger', 'Challenger', 'truth', 'dacko', 'Challenger', 'wisper', 'Challenger', 'Challenger', 'Red', 'Challenger']\n",
      "['1768', 'Challenger', 'Challenger', 'Challenger', 'Challenger', '1572', 'Challenger', '1520', '1431', '1296', '1291', '1272', '1272', '1270', '1266', '1262', '1252', 'Challenger', '1229', 'Challenger', 'Challenger', '1204', '1201', 'Challenger', '1175', '1170', '1170', 'Challenger', 'Challenger', '1157', 'Challenger', '1155', '1152', '1151', '1149', '1148', '1147', 'Challenger', '1141', '1139', 'Challenger', '1135', 'Challenger', '1125', '1120', '1117', '1114', 'Challenger', 'Challenger', '1106', '1101', '1098', '1086', '1085', '1083', '1078', '1078', 'Challenger', 'Challenger', '1061', 'Challenger', '1058', '1056', 'Challenger', '1049']\n",
      "['100%', '1684', '1670', '1651', '1611', '61%', '1522', '67%', '33%', '0%', '50%', '67%', '67%', '59%', '40%', '57%', '50%', '1250', '50%', '1219', '1207', '33%', '51%', '1177', '67%', '0%', '50%', '1167', '1163', '48%', '1157', '71%', '50%', '50%', '100%', '50%', '0%', '1145', '0%', '59%', '1138', '0%', '1129', '53%', '61%', '27%', '0%', '1114', '1108', '60%', '50%', '62%', '48%', '54%', '0%', '75%', '62%', '1077', '1065', '100%', '1058', '58%', '56%', '1055', '61%']\n",
      "['1', '0%', '0%', '0%', '0%', '127', '0%', '3', '3', '2', '4', '9', '21', '123', '10', '46', '2', '0%', '6', '0%', '0%', '6', '35', '0%', '3', '2', '4', '0%', '0%', '62', '0%', '17', '24', '4', '1', '2', '1', '0%', '1', '109', '0%', '1', '0%', '17', '61', '15', '1', '0%', '0%', '5', '12', '47', '56', '70', '1', '12', '8', '0%', '0%', '1', '0%', '53', '9', '0%', '205']\n"
     ]
    }
   ],
   "source": [
    "for player in na_leaderboard:\n",
    "\n",
    "    new_list = player.text.split()\n",
    "\n",
    "    if len(new_list) == 6:\n",
    "\n",
    "        overall_position.append(new_list[0])\n",
    "        player_name.append(new_list[1])\n",
    "        rank.append(new_list[2])\n",
    "        league_points.append(new_list[3])\n",
    "        win_rate.append(new_list[4])\n",
    "        matches_played.append(new_list[5])\n",
    "\n",
    "    elif len(new_list) == 7:\n",
    "\n",
    "        two_name_player = new_list[1] + new_list[2]\n",
    "\n",
    "        overall_position.append(new_list[0])\n",
    "        player_name.append(two_name_player)\n",
    "        rank.append(new_list[3])\n",
    "        league_points.append(new_list[4])\n",
    "        win_rate.append(new_list[5])\n",
    "        matches_played.append(new_list[6])\n",
    "\n",
    "    elif len(new_list) == 8:\n",
    "\n",
    "        three_name_player = new_list[1] + new_list[2] + new_list[3]\n",
    "\n",
    "        overall_position.append(new_list[0])\n",
    "        player_name.append(three_name_player)\n",
    "        rank.append(new_list[4])\n",
    "        league_points.append(new_list[5])\n",
    "        win_rate.append(new_list[6])\n",
    "        matches_played.append(new_list[7])\n",
    "\n",
    "print(overall_position)\n",
    "print(player_name)\n",
    "print(rank)\n",
    "print(league_points)\n",
    "print(win_rate)\n",
    "print(matches_played)"
   ]
  },
  {
   "cell_type": "code",
   "execution_count": 6,
   "metadata": {},
   "outputs": [],
   "source": [
    "# check if lists are empty\n",
    "\n",
    "assert (overall_position != []), 'list is empty'\n",
    "assert (player_name != []), 'list is empty'\n",
    "assert (rank != []), 'list is empty'\n",
    "assert (league_points != []), 'list is empty'\n",
    "assert (win_rate != []), 'list is empty'\n",
    "assert (matches_played != []), 'list is empty'"
   ]
  },
  {
   "cell_type": "code",
   "execution_count": 7,
   "metadata": {},
   "outputs": [],
   "source": [
    "# closing the driver session\n",
    "\n",
    "driver.quit()"
   ]
  },
  {
   "cell_type": "markdown",
   "metadata": {},
   "source": [
    "## Generate data frame and csv file"
   ]
  },
  {
   "cell_type": "code",
   "execution_count": 8,
   "metadata": {},
   "outputs": [],
   "source": [
    "import pandas as pd"
   ]
  },
  {
   "cell_type": "code",
   "execution_count": 9,
   "metadata": {},
   "outputs": [
    {
     "data": {
      "text/html": [
       "<div>\n",
       "<style scoped>\n",
       "    .dataframe tbody tr th:only-of-type {\n",
       "        vertical-align: middle;\n",
       "    }\n",
       "\n",
       "    .dataframe tbody tr th {\n",
       "        vertical-align: top;\n",
       "    }\n",
       "\n",
       "    .dataframe thead th {\n",
       "        text-align: right;\n",
       "    }\n",
       "</style>\n",
       "<table border=\"1\" class=\"dataframe\">\n",
       "  <thead>\n",
       "    <tr style=\"text-align: right;\">\n",
       "      <th></th>\n",
       "      <th>overall_position</th>\n",
       "      <th>player_name</th>\n",
       "      <th>rank</th>\n",
       "      <th>league_points</th>\n",
       "      <th>win_rate</th>\n",
       "      <th>matches_played</th>\n",
       "    </tr>\n",
       "  </thead>\n",
       "  <tbody>\n",
       "    <tr>\n",
       "      <th>0</th>\n",
       "      <td>1</td>\n",
       "      <td>PwVxHc9999na</td>\n",
       "      <td>Challenger</td>\n",
       "      <td>1768</td>\n",
       "      <td>100%</td>\n",
       "      <td>1</td>\n",
       "    </tr>\n",
       "    <tr>\n",
       "      <th>1</th>\n",
       "      <td>2</td>\n",
       "      <td>Wakanda</td>\n",
       "      <td>f0rever</td>\n",
       "      <td>Challenger</td>\n",
       "      <td>1684</td>\n",
       "      <td>0%</td>\n",
       "    </tr>\n",
       "    <tr>\n",
       "      <th>2</th>\n",
       "      <td>3</td>\n",
       "      <td>c2</td>\n",
       "      <td>meteos</td>\n",
       "      <td>Challenger</td>\n",
       "      <td>1670</td>\n",
       "      <td>0%</td>\n",
       "    </tr>\n",
       "    <tr>\n",
       "      <th>3</th>\n",
       "      <td>4</td>\n",
       "      <td>MU</td>\n",
       "      <td>APA</td>\n",
       "      <td>Challenger</td>\n",
       "      <td>1651</td>\n",
       "      <td>0%</td>\n",
       "    </tr>\n",
       "    <tr>\n",
       "      <th>4</th>\n",
       "      <td>6</td>\n",
       "      <td>Twitchtv</td>\n",
       "      <td>Cupic</td>\n",
       "      <td>Challenger</td>\n",
       "      <td>1611</td>\n",
       "      <td>0%</td>\n",
       "    </tr>\n",
       "    <tr>\n",
       "      <th>...</th>\n",
       "      <td>...</td>\n",
       "      <td>...</td>\n",
       "      <td>...</td>\n",
       "      <td>...</td>\n",
       "      <td>...</td>\n",
       "      <td>...</td>\n",
       "    </tr>\n",
       "    <tr>\n",
       "      <th>60</th>\n",
       "      <td>95</td>\n",
       "      <td>Last</td>\n",
       "      <td>wisper</td>\n",
       "      <td>Challenger</td>\n",
       "      <td>1058</td>\n",
       "      <td>0%</td>\n",
       "    </tr>\n",
       "    <tr>\n",
       "      <th>61</th>\n",
       "      <td>95</td>\n",
       "      <td>Revenge</td>\n",
       "      <td>Challenger</td>\n",
       "      <td>1058</td>\n",
       "      <td>58%</td>\n",
       "      <td>53</td>\n",
       "    </tr>\n",
       "    <tr>\n",
       "      <th>62</th>\n",
       "      <td>98</td>\n",
       "      <td>TLHondaBwipo</td>\n",
       "      <td>Challenger</td>\n",
       "      <td>1056</td>\n",
       "      <td>56%</td>\n",
       "      <td>9</td>\n",
       "    </tr>\n",
       "    <tr>\n",
       "      <th>63</th>\n",
       "      <td>99</td>\n",
       "      <td>EU</td>\n",
       "      <td>Red</td>\n",
       "      <td>Challenger</td>\n",
       "      <td>1055</td>\n",
       "      <td>0%</td>\n",
       "    </tr>\n",
       "    <tr>\n",
       "      <th>64</th>\n",
       "      <td>100</td>\n",
       "      <td>blondedahyun</td>\n",
       "      <td>Challenger</td>\n",
       "      <td>1049</td>\n",
       "      <td>61%</td>\n",
       "      <td>205</td>\n",
       "    </tr>\n",
       "  </tbody>\n",
       "</table>\n",
       "<p>65 rows × 6 columns</p>\n",
       "</div>"
      ],
      "text/plain": [
       "   overall_position   player_name        rank league_points win_rate  \\\n",
       "0                 1  PwVxHc9999na  Challenger          1768     100%   \n",
       "1                 2       Wakanda     f0rever    Challenger     1684   \n",
       "2                 3            c2      meteos    Challenger     1670   \n",
       "3                 4            MU         APA    Challenger     1651   \n",
       "4                 6      Twitchtv       Cupic    Challenger     1611   \n",
       "..              ...           ...         ...           ...      ...   \n",
       "60               95          Last      wisper    Challenger     1058   \n",
       "61               95       Revenge  Challenger          1058      58%   \n",
       "62               98  TLHondaBwipo  Challenger          1056      56%   \n",
       "63               99            EU         Red    Challenger     1055   \n",
       "64              100  blondedahyun  Challenger          1049      61%   \n",
       "\n",
       "   matches_played  \n",
       "0               1  \n",
       "1              0%  \n",
       "2              0%  \n",
       "3              0%  \n",
       "4              0%  \n",
       "..            ...  \n",
       "60             0%  \n",
       "61             53  \n",
       "62              9  \n",
       "63             0%  \n",
       "64            205  \n",
       "\n",
       "[65 rows x 6 columns]"
      ]
     },
     "execution_count": 9,
     "metadata": {},
     "output_type": "execute_result"
    }
   ],
   "source": [
    "# create a dataframe\n",
    "\n",
    "df = pd.DataFrame({\n",
    "    \"overall_position\": overall_position,\n",
    "    \"player_name\": player_name,\n",
    "    \"rank\": rank,\n",
    "    \"league_points\": league_points,\n",
    "    \"win_rate\": win_rate,\n",
    "    \"matches_played\": matches_played\n",
    "})\n",
    "\n",
    "df"
   ]
  },
  {
   "cell_type": "code",
   "execution_count": 10,
   "metadata": {},
   "outputs": [],
   "source": [
    "# create csv file\n",
    "\n",
    "df.to_csv(\"na_leaderboard.csv\", index=False)"
   ]
  }
 ],
 "metadata": {
  "kernelspec": {
   "display_name": "Python 3.10.5 ('.env': venv)",
   "language": "python",
   "name": "python3"
  },
  "language_info": {
   "codemirror_mode": {
    "name": "ipython",
    "version": 3
   },
   "file_extension": ".py",
   "mimetype": "text/x-python",
   "name": "python",
   "nbconvert_exporter": "python",
   "pygments_lexer": "ipython3",
   "version": "3.10.5"
  },
  "orig_nbformat": 4,
  "vscode": {
   "interpreter": {
    "hash": "323ffd80a3d1bd87652eef821899663beb3891630d214e0d2358d356c8194408"
   }
  }
 },
 "nbformat": 4,
 "nbformat_minor": 2
}
